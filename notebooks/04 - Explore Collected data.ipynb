{
  "cells": [
    {
      "cell_type": "markdown",
      "metadata": {},
      "source": [
        "# Explore Collected Data from Production\n",
        "\n",
        "## Initialize Workspace"
      ]
    },
    {
      "cell_type": "code",
      "execution_count": null,
      "metadata": {},
      "outputs": [],
      "source": [
        "from azure.identity import DefaultAzureCredential\n",
        "from azure.ai.ml import MLClient\n",
        "\n",
        "# Establish a connection to the workspace\n",
        "ml_client = MLClient.from_config(credential=DefaultAzureCredential())"
      ]
    },
    {
      "cell_type": "markdown",
      "metadata": {},
      "source": [
        "## Load and Explore Data\n",
        "\n",
        "In this section, we'll load the data assets, convert them to Pandas DataFrames, and inspect the last record of each dataset to understand the data."
      ]
    },
    {
      "cell_type": "code",
      "execution_count": null,
      "metadata": {
        "gather": {
          "logged": 1696447348073
        }
      },
      "outputs": [],
      "source": [
        "import mltable\n",
        "\n",
        "def load_and_inspect_data(asset_name, version):\n",
        "    # Get the data asset\n",
        "    data_asset = ml_client.data.get(asset_name, version=version)\n",
        "    \n",
        "    # Define the path to the data asset\n",
        "    path = {'folder': data_asset.path}\n",
        "    \n",
        "    # Load the data as an mltable object\n",
        "    tbl = mltable.from_json_lines_files(paths=[path])\n",
        "    \n",
        "    # Convert the mltable to a Pandas DataFrame\n",
        "    df = tbl.to_pandas_dataframe()\n",
        "    \n",
        "    # Inspect the last record of the DataFrame\n",
        "    last_record = df.iloc[-1]\n",
        "    print(f'Last record of {asset_name}:\\n{last_record}\\n')\n",
        "\n",
        "# Base string for the deployment name\n",
        "deployment_base_name = \"<deployment-name>\" # Replace with your deployment name\n",
        "\n",
        "# Construct asset names dynamically based on the deployment name\n",
        "asset_info = [\n",
        "    (f\"{deployment_base_name}-model_outputs\", \"1\"),\n",
        "    (f\"{deployment_base_name}-model_inputs_outputs\", \"1\"),\n",
        "    (f\"{deployment_base_name}-model_inputs\", \"1\")\n",
        "]\n",
        "\n",
        "# Load and inspect each data asset\n",
        "for asset_name, version in asset_info:\n",
        "    load_and_inspect_data(asset_name, version)\n"
      ]
    }
  ],
  "metadata": {
    "kernel_info": {
      "name": "python310-sdkv2"
    },
    "kernelspec": {
      "display_name": "Python 3.10 - SDK v2",
      "language": "python",
      "name": "python310-sdkv2"
    },
    "language_info": {
      "codemirror_mode": {
        "name": "ipython",
        "version": 3
      },
      "file_extension": ".py",
      "mimetype": "text/x-python",
      "name": "python",
      "nbconvert_exporter": "python",
      "pygments_lexer": "ipython3",
      "version": "3.10.11"
    },
    "microsoft": {
      "host": {
        "AzureML": {
          "notebookHasBeenCompleted": true
        }
      },
      "ms_spell_check": {
        "ms_spell_check_language": "en"
      }
    },
    "nteract": {
      "version": "nteract-front-end@1.0.0"
    }
  },
  "nbformat": 4,
  "nbformat_minor": 2
}
