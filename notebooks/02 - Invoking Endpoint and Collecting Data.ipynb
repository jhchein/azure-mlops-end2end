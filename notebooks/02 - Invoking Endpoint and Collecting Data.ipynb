{
  "cells": [
    {
      "attachments": {},
      "cell_type": "markdown",
      "metadata": {},
      "source": [
        "# Monitoring Models\n",
        "\n",
        "> [!NOTE] Ensure to utilize Python 3.10 SDK V2 for this demonstration."
      ]
    },
    {
      "cell_type": "markdown",
      "metadata": {},
      "source": [
        "Initialize the variables with your endpoint name, deployment name, and API key."
      ]
    },
    {
      "cell_type": "code",
      "execution_count": 1,
      "metadata": {
        "gather": {
          "logged": 1697209985907
        },
        "jupyter": {
          "outputs_hidden": false,
          "source_hidden": false
        },
        "nteract": {
          "transient": {
            "deleting": false
          }
        }
      },
      "outputs": [],
      "source": [
        "online_endpoint_name = \"<your_endpoint_name>\"\n",
        "deployment = \"<your_deployment_name>\""
      ]
    },
    {
      "cell_type": "markdown",
      "metadata": {},
      "source": [
        "## Invoke the endpoint\n",
        "\n",
        "Setup the workspace handle and the MLClient for managing resources in your Azure Machine Learning workspace."
      ]
    },
    {
      "cell_type": "code",
      "execution_count": 2,
      "metadata": {
        "gather": {
          "logged": 1697209988973
        }
      },
      "outputs": [
        {
          "name": "stderr",
          "output_type": "stream",
          "text": [
            "Found the config file in: /config.json\n"
          ]
        }
      ],
      "source": [
        "# Handle to the workspace\n",
        "from azure.identity import DefaultAzureCredential\n",
        "from azure.ai.ml import MLClient\n",
        "import mlflow\n",
        "\n",
        "ml_client = MLClient.from_config(\n",
        "    DefaultAzureCredential()\n",
        ")"
      ]
    },
    {
      "cell_type": "markdown",
      "metadata": {},
      "source": [
        "Retrieve the MLflow tracking URI from the workspace to enable logging and monitoring of the model."
      ]
    },
    {
      "cell_type": "code",
      "execution_count": 3,
      "metadata": {
        "gather": {
          "logged": 1697209989477
        }
      },
      "outputs": [],
      "source": [
        "# Gather MLflow URI information from workspace\n",
        "azureml_mlflow_uri = ml_client.workspaces.get(ml_client.workspace_name).mlflow_tracking_uri\n",
        "mlflow.set_tracking_uri(azureml_mlflow_uri)"
      ]
    },
    {
      "cell_type": "markdown",
      "metadata": {},
      "source": [
        "Import necessary entities for interacting with the managed online endpoint."
      ]
    },
    {
      "cell_type": "code",
      "execution_count": 4,
      "metadata": {
        "gather": {
          "logged": 1697209989684
        }
      },
      "outputs": [],
      "source": [
        "from azure.ai.ml.entities import (\n",
        "    ManagedOnlineEndpoint,\n",
        "    ManagedOnlineDeployment,\n",
        "    Model,\n",
        ")"
      ]
    },
    {
      "attachments": {},
      "cell_type": "markdown",
      "metadata": {},
      "source": [
        "## Use the Model\n",
        "\n",
        "Make sure to capture the API key from the **Endpoint** '**Consume**' page. Replace it with the code below for api_key\n",
        "\n",
        "<img title=\"Endpoint Details\" src=\"Media/endpoint-details-page.png\">"
      ]
    },
    {
      "cell_type": "markdown",
      "metadata": {},
      "source": [
        "Obtain the necessary details about the online endpoint, such as the scoring URI, which will be used to send data for predictions."
      ]
    },
    {
      "cell_type": "code",
      "execution_count": null,
      "metadata": {
        "gather": {
          "logged": 1697209990534
        },
        "jupyter": {
          "outputs_hidden": false,
          "source_hidden": false
        },
        "nteract": {
          "transient": {
            "deleting": false
          }
        }
      },
      "outputs": [],
      "source": [
        "# Get the details for online endpoint\n",
        "endpoint = ml_client.online_endpoints.get(name=online_endpoint_name)\n",
        "\n",
        "api_key = ml_client.online_endpoints.get_keys(online_endpoint_name).primary_key\n",
        "\n",
        "# Display existing traffic details\n",
        "print(f\"Traffic Details: {endpoint.traffic}\")\n",
        "\n",
        "# Display the scoring URI\n",
        "print(f\"Scoring URI: {endpoint.scoring_uri}\")\n",
        "\n",
        "url = endpoint.scoring_uri"
      ]
    },
    {
      "cell_type": "markdown",
      "metadata": {},
      "source": [
        "Utilize the custom function `invoke_endpoint` from the `utils` module to send a request to the endpoint and obtain predictions."
      ]
    },
    {
      "cell_type": "code",
      "execution_count": 6,
      "metadata": {
        "gather": {
          "logged": 1697209990781
        }
      },
      "outputs": [],
      "source": [
        "from utils.invoke import invoke_endpoint\n",
        "\n",
        "# Invoke the endpoint to get predictions\n",
        "# predicted_classes = invoke_endpoint(url, deployment, api_key)"
      ]
    },
    {
      "cell_type": "markdown",
      "metadata": {
        "nteract": {
          "transient": {
            "deleting": false
          }
        }
      },
      "source": [
        "## Load production data and run inference in Batches\n",
        "\n",
        "Load the production data, and convert it to a Pandas DataFrame for easier manipulation."
      ]
    },
    {
      "cell_type": "code",
      "execution_count": 7,
      "metadata": {
        "gather": {
          "logged": 1697209992355
        },
        "jupyter": {
          "outputs_hidden": false,
          "source_hidden": false
        },
        "nteract": {
          "transient": {
            "deleting": false
          }
        }
      },
      "outputs": [
        {
          "data": {
            "text/html": [
              "<div>\n",
              "<style scoped>\n",
              "    .dataframe tbody tr th:only-of-type {\n",
              "        vertical-align: middle;\n",
              "    }\n",
              "\n",
              "    .dataframe tbody tr th {\n",
              "        vertical-align: top;\n",
              "    }\n",
              "\n",
              "    .dataframe thead th {\n",
              "        text-align: right;\n",
              "    }\n",
              "</style>\n",
              "<table border=\"1\" class=\"dataframe\">\n",
              "  <thead>\n",
              "    <tr style=\"text-align: right;\">\n",
              "      <th></th>\n",
              "      <th>PatientID</th>\n",
              "      <th>Pregnancies</th>\n",
              "      <th>PlasmaGlucose</th>\n",
              "      <th>DiastolicBloodPressure</th>\n",
              "      <th>TricepsThickness</th>\n",
              "      <th>SerumInsulin</th>\n",
              "      <th>BMI</th>\n",
              "      <th>DiabetesPedigree</th>\n",
              "      <th>Age</th>\n",
              "      <th>Diabetic</th>\n",
              "    </tr>\n",
              "  </thead>\n",
              "  <tbody>\n",
              "    <tr>\n",
              "      <th>0</th>\n",
              "      <td>1763065</td>\n",
              "      <td>7</td>\n",
              "      <td>93</td>\n",
              "      <td>86</td>\n",
              "      <td>16</td>\n",
              "      <td>49</td>\n",
              "      <td>45.327927</td>\n",
              "      <td>0.204736</td>\n",
              "      <td>24</td>\n",
              "      <td>False</td>\n",
              "    </tr>\n",
              "    <tr>\n",
              "      <th>1</th>\n",
              "      <td>1814475</td>\n",
              "      <td>1</td>\n",
              "      <td>98</td>\n",
              "      <td>62</td>\n",
              "      <td>13</td>\n",
              "      <td>58</td>\n",
              "      <td>29.712845</td>\n",
              "      <td>0.087436</td>\n",
              "      <td>34</td>\n",
              "      <td>True</td>\n",
              "    </tr>\n",
              "    <tr>\n",
              "      <th>2</th>\n",
              "      <td>1473525</td>\n",
              "      <td>1</td>\n",
              "      <td>70</td>\n",
              "      <td>86</td>\n",
              "      <td>11</td>\n",
              "      <td>50</td>\n",
              "      <td>40.657364</td>\n",
              "      <td>0.492743</td>\n",
              "      <td>22</td>\n",
              "      <td>False</td>\n",
              "    </tr>\n",
              "    <tr>\n",
              "      <th>3</th>\n",
              "      <td>1123081</td>\n",
              "      <td>3</td>\n",
              "      <td>135</td>\n",
              "      <td>70</td>\n",
              "      <td>19</td>\n",
              "      <td>27</td>\n",
              "      <td>50.915305</td>\n",
              "      <td>0.111574</td>\n",
              "      <td>21</td>\n",
              "      <td>False</td>\n",
              "    </tr>\n",
              "    <tr>\n",
              "      <th>4</th>\n",
              "      <td>1479105</td>\n",
              "      <td>1</td>\n",
              "      <td>139</td>\n",
              "      <td>94</td>\n",
              "      <td>7</td>\n",
              "      <td>15</td>\n",
              "      <td>34.524436</td>\n",
              "      <td>0.122165</td>\n",
              "      <td>26</td>\n",
              "      <td>False</td>\n",
              "    </tr>\n",
              "  </tbody>\n",
              "</table>\n",
              "</div>"
            ],
            "text/plain": [
              "   PatientID  Pregnancies  PlasmaGlucose  DiastolicBloodPressure  \\\n",
              "0    1763065            7             93                      86   \n",
              "1    1814475            1             98                      62   \n",
              "2    1473525            1             70                      86   \n",
              "3    1123081            3            135                      70   \n",
              "4    1479105            1            139                      94   \n",
              "\n",
              "   TricepsThickness  SerumInsulin        BMI  DiabetesPedigree  Age  Diabetic  \n",
              "0                16            49  45.327927          0.204736   24     False  \n",
              "1                13            58  29.712845          0.087436   34      True  \n",
              "2                11            50  40.657364          0.492743   22     False  \n",
              "3                19            27  50.915305          0.111574   21     False  \n",
              "4                 7            15  34.524436          0.122165   26     False  "
            ]
          },
          "execution_count": 7,
          "metadata": {},
          "output_type": "execute_result"
        }
      ],
      "source": [
        "import mltable\n",
        "\n",
        "# Load the data asset\n",
        "data_asset = ml_client.data.get(\"diabetes-mltable-production\", label=\"latest\")\n",
        "\n",
        "# Load the table and convert to Pandas DataFrame\n",
        "tbl = mltable.load(data_asset.path)\n",
        "df = tbl.to_pandas_dataframe()\n",
        "df.head()  # Display the first few rows of the DataFrame\n"
      ]
    },
    {
      "cell_type": "markdown",
      "metadata": {},
      "source": [
        "Prepare the data by separating the features (X) and the target variable (y), then split the data into batches for batch processing."
      ]
    },
    {
      "cell_type": "code",
      "execution_count": 8,
      "metadata": {
        "gather": {
          "logged": 1697209992652
        },
        "jupyter": {
          "outputs_hidden": false,
          "source_hidden": false
        },
        "nteract": {
          "transient": {
            "deleting": false
          }
        }
      },
      "outputs": [],
      "source": [
        "import numpy as np\n",
        "\n",
        "# Separate features and target variable\n",
        "X, y = df[['Pregnancies', 'PlasmaGlucose', 'DiastolicBloodPressure', 'TricepsThickness', 'SerumInsulin', 'BMI', 'DiabetesPedigree', 'Age']], df['Diabetic']\n",
        "\n",
        "# Split the DataFrame into batches of size 5\n",
        "batches = [batch.values.tolist() for batch in np.array_split(X, len(X) / 5)]\n"
      ]
    },
    {
      "cell_type": "markdown",
      "metadata": {},
      "source": [
        "Invoke the endpoint with each batch of data to get predictions."
      ]
    },
    {
      "cell_type": "code",
      "execution_count": 9,
      "metadata": {
        "gather": {
          "logged": 1697210049607
        },
        "jupyter": {
          "outputs_hidden": false,
          "source_hidden": false
        },
        "nteract": {
          "transient": {
            "deleting": false
          }
        }
      },
      "outputs": [
        {
          "name": "stderr",
          "output_type": "stream",
          "text": [
            "100%|██████████| 900/900 [00:57<00:00, 15.78it/s]\n"
          ]
        }
      ],
      "source": [
        "predictions = []\n",
        "\n",
        "import json\n",
        "import tempfile\n",
        "import os\n",
        "from tqdm import tqdm\n",
        "\n",
        "for batch in tqdm(batches):\n",
        "    payload = {\"input_data\": batch, \"params\": {}}\n",
        "    predictions_batch = invoke_endpoint(url, deployment, api_key, payload)\n",
        "    predictions.extend(predictions_batch)"
      ]
    },
    {
      "cell_type": "markdown",
      "metadata": {},
      "source": [
        "Evaluate the model's performance on the production data using accuracy and F1 score metrics."
      ]
    },
    {
      "cell_type": "code",
      "execution_count": 11,
      "metadata": {
        "gather": {
          "logged": 1697210052673
        },
        "jupyter": {
          "outputs_hidden": false,
          "source_hidden": false
        },
        "nteract": {
          "transient": {
            "deleting": false
          }
        }
      },
      "outputs": [
        {
          "name": "stdout",
          "output_type": "stream",
          "text": [
            "Accuracy: 0.77\n",
            "F1 Score: 0.73\n"
          ]
        }
      ],
      "source": [
        "import pandas as pd\n",
        "from sklearn.metrics import accuracy_score, f1_score\n",
        "\n",
        "# Convert predictions to DataFrame\n",
        "predictions_df = pd.DataFrame(predictions, columns=[\"Predicted\"])\n",
        "\n",
        "# Evaluate model performance\n",
        "accuracy = accuracy_score(y_true=y, y_pred=predictions_df)\n",
        "f1 = f1_score(y_true=y, y_pred=predictions_df)\n",
        "\n",
        "print(f'Accuracy: {accuracy:.2f}')\n",
        "print(f'F1 Score: {f1:.2f}')"
      ]
    }
  ],
  "metadata": {
    "kernel_info": {
      "name": "python310-sdkv2"
    },
    "kernelspec": {
      "display_name": "Python 3.10 - SDK v2",
      "language": "python",
      "name": "python310-sdkv2"
    },
    "language_info": {
      "codemirror_mode": {
        "name": "ipython",
        "version": 3
      },
      "file_extension": ".py",
      "mimetype": "text/x-python",
      "name": "python",
      "nbconvert_exporter": "python",
      "pygments_lexer": "ipython3",
      "version": "3.10.11"
    },
    "microsoft": {
      "host": {
        "AzureML": {
          "notebookHasBeenCompleted": true
        }
      },
      "ms_spell_check": {
        "ms_spell_check_language": "en"
      }
    },
    "nteract": {
      "version": "nteract-front-end@1.0.0"
    },
    "orig_nbformat": 4,
    "vscode": {
      "interpreter": {
        "hash": "bd2f20a2ae7e9e927b52643942994f3aab4e8a0fff0d99512b6bf37211656242"
      }
    }
  },
  "nbformat": 4,
  "nbformat_minor": 2
}
