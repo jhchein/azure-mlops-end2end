{
  "cells": [
    {
      "attachments": {},
      "cell_type": "markdown",
      "metadata": {},
      "source": [
        "# Train and deploy a model\n",
        "\n",
        "> [!NOTE] Must use Python 3.10 SDK V2 for this demo."
      ]
    },
    {
      "cell_type": "markdown",
      "metadata": {},
      "source": [
        "## Train a model\n",
        "\n",
        "Initiate a connection to the Azure ML workspace and set up MLflow for tracking."
      ]
    },
    {
      "cell_type": "code",
      "execution_count": 1,
      "metadata": {
        "gather": {
          "logged": 1697218927660
        }
      },
      "outputs": [
        {
          "name": "stderr",
          "output_type": "stream",
          "text": [
            "Found the config file in: /config.json\n"
          ]
        }
      ],
      "source": [
        "## Train a model\n",
        "\n",
        "# Handle to the workspace\n",
        "from azure.identity import DefaultAzureCredential\n",
        "from azure.ai.ml import MLClient\n",
        "import mlflow\n",
        "\n",
        "ml_client = MLClient.from_config(\n",
        "    DefaultAzureCredential()\n",
        ")\n",
        "\n",
        "# Gather MLflow URI information from workspace\n",
        "azureml_mlflow_uri = ml_client.workspaces.get(ml_client.workspace_name).mlflow_tracking_uri\n",
        "mlflow.set_tracking_uri(azureml_mlflow_uri)"
      ]
    },
    {
      "cell_type": "markdown",
      "metadata": {},
      "source": [
        "Import necessary libraries and set up the experiment in MLflow."
      ]
    },
    {
      "cell_type": "code",
      "execution_count": 2,
      "metadata": {
        "gather": {
          "logged": 1697218929573
        }
      },
      "outputs": [
        {
          "data": {
            "text/plain": [
              "<Experiment: artifact_location='', creation_time=1695979876979, experiment_id='25664d2b-30d0-447f-a683-d167b73e4c85', last_update_time=None, lifecycle_stage='active', name='Monitoring-Models-Experiment', tags={}>"
            ]
          },
          "execution_count": 2,
          "metadata": {},
          "output_type": "execute_result"
        }
      ],
      "source": [
        "# Import python packages\n",
        "from sklearn.model_selection import train_test_split\n",
        "from sklearn.tree import DecisionTreeClassifier\n",
        "from sklearn.metrics import roc_auc_score\n",
        "import numpy as np\n",
        "import os\n",
        "\n",
        "experiment_name = \"Monitoring-Models-Experiment\"\n",
        "mlflow.set_experiment(experiment_name)"
      ]
    },
    {
      "cell_type": "markdown",
      "metadata": {},
      "source": [
        "Load the dataset, convert it to a Pandas DataFrame, and prepare the directory for model saving."
      ]
    },
    {
      "cell_type": "code",
      "execution_count": 3,
      "metadata": {
        "gather": {
          "logged": 1697218932478
        }
      },
      "outputs": [],
      "source": [
        "import mltable\n",
        "\n",
        "# iterate over all versions of the data asset\n",
        "\n",
        "data_asset = ml_client.data.get(\"diabetes-mltable-dev\", label=\"latest\")\n",
        "\n",
        "tbl = mltable.load(data_asset.path)\n",
        "\n",
        "df = tbl.to_pandas_dataframe()\n",
        "df\n",
        "\n",
        "model_path = \"./models/monitoring\"\n",
        "os.makedirs(model_path, exist_ok=True)"
      ]
    },
    {
      "cell_type": "markdown",
      "metadata": {},
      "source": [
        "Start logging the training process in MLflow, train a Decision Tree model, and log the model performance metrics."
      ]
    },
    {
      "cell_type": "code",
      "execution_count": 4,
      "metadata": {
        "gather": {
          "logged": 1697218934111
        }
      },
      "outputs": [],
      "source": [
        "# delete model directory if it exists\n",
        "import shutil\n",
        "if os.path.exists(model_path):\n",
        "    shutil.rmtree(model_path)\n",
        "\n",
        "# Start Logging\n",
        "mlflow.start_run()\n",
        "\n",
        "# Enable autologging (optional)\n",
        "# mlflow.sklearn.autolog()\n",
        "\n",
        "diabetes = df\n",
        "\n",
        "# Breaking up data into input/target features\n",
        "X, y = diabetes[['Pregnancies','PlasmaGlucose','DiastolicBloodPressure','TricepsThickness','SerumInsulin','BMI','DiabetesPedigree','Age']].values, diabetes['Diabetic'].values\n",
        "\n",
        "# Breaking data into training and testing\n",
        "X_train, X_test, y_train, y_test = train_test_split(X, y, test_size=0.30, random_state=0)\n",
        "\n",
        "# Training a model:\n",
        "model = DecisionTreeClassifier().fit(X_train, y_train)\n",
        "\n",
        "# Calculating performance and logging them\n",
        "y_hat = model.predict(X_test)\n",
        "acc = np.average(y_hat == y_test)\n",
        "mlflow.log_metric('Accuracy', float(acc))\n",
        "\n",
        "y_scores = model.predict_proba(X_test)\n",
        "auc = roc_auc_score(y_test,y_scores[:,1])\n",
        "mlflow.log_metric('AUC', float(auc))"
      ]
    },
    {
      "cell_type": "markdown",
      "metadata": {},
      "source": [
        "Infer the model signature, register the model to the workspace, and save the model to a file."
      ]
    },
    {
      "cell_type": "code",
      "execution_count": 5,
      "metadata": {
        "gather": {
          "logged": 1697218945451
        },
        "jupyter": {
          "outputs_hidden": false,
          "source_hidden": false
        },
        "nteract": {
          "transient": {
            "deleting": false
          }
        }
      },
      "outputs": [
        {
          "name": "stdout",
          "output_type": "stream",
          "text": [
            "Registering the model via MLFlow\n"
          ]
        },
        {
          "name": "stderr",
          "output_type": "stream",
          "text": [
            "/anaconda/envs/azureml_py310_sdkv2/lib/python3.10/site-packages/_distutils_hack/__init__.py:33: UserWarning: Setuptools is replacing distutils.\n",
            "  warnings.warn(\"Setuptools is replacing distutils.\")\n",
            "Registered model 'monitoring-diabetes-clr-mdl' already exists. Creating a new version of this model...\n",
            "2023/10/13 17:42:24 INFO mlflow.tracking._model_registry.client: Waiting up to 300 seconds for model version to finish creation. Model name: monitoring-diabetes-clr-mdl, version 14\n",
            "Created version '14' of model 'monitoring-diabetes-clr-mdl'.\n"
          ]
        }
      ],
      "source": [
        "from mlflow.models import infer_signature\n",
        "\n",
        "signature = infer_signature(X_test, y_hat)\n",
        "\n",
        "# Registering the model to the workspace\n",
        "print(\"Registering the model via MLFlow\")\n",
        "mlflow.sklearn.log_model(\n",
        "    sk_model=model,\n",
        "    registered_model_name=\"monitoring-diabetes-clr-mdl\",\n",
        "    artifact_path=\"model\",\n",
        "    signature=signature,\n",
        ")\n",
        "\n",
        "# Saving the model to a file\n",
        "mlflow.sklearn.save_model(\n",
        "    sk_model=model, \n",
        "    path=model_path,\n",
        "    signature=signature\n",
        ")\n",
        "\n",
        "# Stop logging\n",
        "mlflow.end_run()\n"
      ]
    },
    {
      "attachments": {},
      "cell_type": "markdown",
      "metadata": {},
      "source": [
        "## Deploy a Model\n",
        "\n",
        "After training and registering the model, it's time to deploy it. You can verify the latest version of your registered model on the Models page on Azure ML studio, or use the code below to retrieve the latest version number.\n",
        "\n",
        "<img title=\"ws-model-registered\" src=\"Media/ws-model-registered.png\">"
      ]
    },
    {
      "cell_type": "code",
      "execution_count": 6,
      "metadata": {
        "gather": {
          "logged": 1697218945780
        }
      },
      "outputs": [],
      "source": [
        "## Deploy a Model\n",
        "\n",
        "# Name the model you registered earlier in the training script\n",
        "registered_model_name = \"monitoring-diabetes-clr-mdl\"\n",
        "\n",
        "# Let's pick the latest version of the model\n",
        "latest_model_version = max(\n",
        "    [int(m.version) for m in ml_client.models.list(name=registered_model_name)]\n",
        ")\n"
      ]
    },
    {
      "cell_type": "markdown",
      "metadata": {},
      "source": [
        "Import the necessary entities for creating an online endpoint and defining an online deployment."
      ]
    },
    {
      "cell_type": "code",
      "execution_count": 7,
      "metadata": {
        "gather": {
          "logged": 1697218945977
        }
      },
      "outputs": [],
      "source": [
        "from azure.ai.ml.entities import (\n",
        "    ManagedOnlineEndpoint,\n",
        "    ManagedOnlineDeployment,\n",
        "    Model,\n",
        ")"
      ]
    },
    {
      "cell_type": "markdown",
      "metadata": {},
      "source": [
        "Create a unique online endpoint name, and define the online endpoint with necessary configurations."
      ]
    },
    {
      "cell_type": "code",
      "execution_count": 8,
      "metadata": {
        "gather": {
          "logged": 1697218950055
        }
      },
      "outputs": [],
      "source": [
        "import datetime\n",
        "\n",
        "# Creating a unique online endpoint name with current datetime to avoid conflicts\n",
        "online_endpoint_name = \"monitor-diabetes\" + datetime.datetime.now().strftime(\"%m%d%H%M%f\")\n",
        "\n",
        "# Create an online endpoint\n",
        "endpoint = ManagedOnlineEndpoint(\n",
        "  name=online_endpoint_name,\n",
        "  description=\"This is a diabetes classifier online endpoint\",\n",
        "  auth_mode=\"key\",\n",
        "  tags={\n",
        "      \"training_dataset\": \"diabetes-data\",\n",
        "      \"model_type\": \"sklearn.DecisionTreeClassifier\",\n",
        "      \"purpose\": \"demonstration\"\n",
        "  },\n",
        ")\n",
        "\n",
        "endpoint = ml_client.begin_create_or_update(endpoint)"
      ]
    },
    {
      "cell_type": "code",
      "execution_count": 11,
      "metadata": {
        "gather": {
          "logged": 1697219110318
        }
      },
      "outputs": [
        {
          "data": {
            "text/plain": [
              "'Succeeded'"
            ]
          },
          "execution_count": 11,
          "metadata": {},
          "output_type": "execute_result"
        }
      ],
      "source": [
        "endpoint.status()"
      ]
    },
    {
      "attachments": {},
      "cell_type": "markdown",
      "metadata": {
        "nteract": {
          "transient": {
            "deleting": false
          }
        }
      },
      "source": [
        "> [!NOTE] Make sure to wait for a notification that the endpoint has completed deployment.\n",
        "\n",
        "<img title=\"Endpoint Deployment\" src=\"Media/endpoint-deployment-succeeded.png\">\n",
        "\n",
        "<img title=\"Endpoint Deployment\" src=\"Media/endpoint-deployment-succeeded_notification.png\">"
      ]
    },
    {
      "cell_type": "markdown",
      "metadata": {},
      "source": [
        "### Deploy the model to the endpoint\n",
        "\n",
        "Upon endpoint creation, proceed to deploy the model. You can manage multiple deployments per endpoint, directing traffic via specified rules. In this scenario, create a single deployment to handle all incoming traffic. The color-naming convention (e.g., blue, green, red) for deployments is arbitrary but helps in distinguishing them.\n",
        "\n",
        "> [!NOTE]\n",
        "> Replace the endpoint name with the endpoint configured in the previous step.\n",
        "> Expect this deployment to take approximately 6 to 8 minutes."
      ]
    },
    {
      "cell_type": "code",
      "execution_count": 12,
      "metadata": {
        "gather": {
          "logged": 1697219117126
        }
      },
      "outputs": [
        {
          "name": "stderr",
          "output_type": "stream",
          "text": [
            "Check: endpoint monitor-diabetes10131742234249 exists\n"
          ]
        },
        {
          "name": "stdout",
          "output_type": "stream",
          "text": [
            "Creating notebook deployment on endpoint\n",
            "..."
          ]
        }
      ],
      "source": [
        "import time\n",
        "\n",
        "model = ml_client.models.get(name=registered_model_name, version=latest_model_version)\n",
        "\n",
        "notebook_deployment = ManagedOnlineDeployment(\n",
        "    name=\"notebook-deployment\",\n",
        "    #Replace the endpoint name below\n",
        "    endpoint_name=online_endpoint_name,\n",
        "    model=model,\n",
        "    instance_type=\"Standard_F4s_v2\",\n",
        "    instance_count=1,\n",
        "    app_insights_enabled=True,\n",
        ")\n",
        "\n",
        "try:\n",
        "    ml_client.online_deployments.begin_create_or_update(notebook_deployment)\n",
        "    print(\"Creating notebook deployment on endpoint\")\n",
        "except Exception as e:\n",
        "    print(e)\n",
        "    print(\"Waiting 3 Minutes...\")\n",
        "    time.sleep(180)\n",
        "    ml_client.online_deployments.begin_create_or_update(notebook_deployment)\n",
        "    print(\"Creating notebook deployment on endpoint\")\n"
      ]
    },
    {
      "attachments": {},
      "cell_type": "markdown",
      "metadata": {
        "nteract": {
          "transient": {
            "deleting": false
          }
        }
      },
      "source": [
        "> [!Note] You can view the current provision status on the red deployment on the **Endpoint** Tab on the right hand side. \n",
        "\n",
        "Remember to wait for the deployment to be completed before moving to the next cell.\n",
        "\n",
        "<img title=\"Endpoint Provision Pending Status\" src=\"Media/endpoint-provision-status-pending.png\">\n"
      ]
    },
    {
      "cell_type": "markdown",
      "metadata": {},
      "source": [
        "### Managing Endpoints and Deployments\n",
        "Retrieve details about the online endpoint and existing traffic rules. Update the traffic rules as needed and apply the changes to the endpoint."
      ]
    },
    {
      "cell_type": "code",
      "execution_count": null,
      "metadata": {
        "gather": {
          "logged": 1697219134113
        }
      },
      "outputs": [],
      "source": [
        "# Get the details for online endpoint\n",
        "endpoint = ml_client.online_endpoints.get(name=online_endpoint_name)\n",
        "\n",
        "# Existing traffic details\n",
        "print(endpoint.traffic)\n",
        "\n",
        "# Get the scoring URI\n",
        "print(endpoint.scoring_uri)\n",
        "\n",
        "# Update traffic rules\n",
        "endpoint.traffic = {\"red\": 100}\n",
        "\n",
        "# Apply the updated traffic rules to the endpoint\n",
        "ml_client.begin_create_or_update(endpoint)"
      ]
    },
    {
      "attachments": {},
      "cell_type": "markdown",
      "metadata": {},
      "source": [
        "Upon completion, the endpoint's provision status should reflect the changes.\n",
        "\n",
        "<img title=\"Endpoint Provision Status\" src=\"Media/endpoint-provision-status.png\">"
      ]
    },
    {
      "attachments": {},
      "cell_type": "markdown",
      "metadata": {},
      "source": [
        "## Use the Model\n",
        "\n",
        "Make sure to capture the API key from the **Endpoint** '**Consume**' page. Replace it with the code below for `api_key`\n",
        "\n",
        "\n",
        "<img title=\"Endpoint Details\" src=\"Media/endpoint-details-page.png\">\n",
        "\n"
      ]
    },
    {
      "cell_type": "code",
      "execution_count": null,
      "metadata": {
        "gather": {
          "logged": 1697218965257
        }
      },
      "outputs": [],
      "source": [
        "import urllib.request\n",
        "import json\n",
        "import os\n",
        "import ssl\n",
        "\n",
        "def allowSelfSignedHttps(allowed):\n",
        "    # bypass the server certificate verification on client side\n",
        "    if allowed and not os.environ.get('PYTHONHTTPSVERIFY', '') and getattr(ssl, '_create_unverified_context', None):\n",
        "        ssl._create_default_https_context = ssl._create_unverified_context\n",
        "\n",
        "allowSelfSignedHttps(True) # this line is needed if you use self-signed certificate in your scoring service.\n",
        "\n",
        "# Request data goes here\n",
        "# The example below assumes JSON formatting which may be updated\n",
        "# depending on the format your endpoint expects.\n",
        "# More information can be found here:\n",
        "# https://docs.microsoft.com/azure/machine-learning/how-to-deploy-advanced-entry-script\n",
        "\n",
        "#generating new data to use in querying\n",
        "x_new = [[2,180,74,24,21,23.9091702,1.488172308,22],\n",
        "        [4,96,83,26,34,52.94533137,0.160199188,53],\n",
        "        [1,125,83,41,235,19.65795152,0.150529189,23],\n",
        "        [3,106,83,39,223,31.77645097,0.877332438,22],\n",
        "        [0,148,58,11,179,39.19207553,0.160829008,45]]\n",
        "\n",
        "data =  {\"input_data\": x_new}\n",
        "\n",
        "body = str.encode(json.dumps(data))\n",
        "\n",
        "url = endpoint.scoring_uri\n",
        "api_key = 'your-api-key'  # Replace this with the API key for the web service\n",
        "headers = {\n",
        "    'Content-Type':'application/json', \n",
        "    'Authorization':('Bearer '+ api_key), \n",
        "    'azureml-model-deployment': 'red'  # Directs request to the 'red' deployment\n",
        "}\n",
        "\n",
        "req = urllib.request.Request(url, body, headers)\n",
        "\n",
        "try:\n",
        "    response = urllib.request.urlopen(req)\n",
        "    result = response.read()\n",
        "    predicted_classes = json.loads(result.decode())\n",
        "    for i in range(len(x_new)):\n",
        "        print(f\"Patient {x_new[i]}: {predicted_classes[i]}\")\n",
        "except urllib.error.HTTPError as error:\n",
        "    print(f\"The request failed with status code: {error.code}\")\n",
        "    print(error.info())\n",
        "    print(error.read().decode(\"utf8\", 'ignore'))"
      ]
    },
    {
      "attachments": {},
      "cell_type": "markdown",
      "metadata": {},
      "source": [
        "## Conclusion\n",
        "\n",
        "Navigate back to the Azure Portal to observe the results in Application Insights.\n",
        "\n",
        "<img src=\"Media/endpoint-deployment-metrics.png\">\n",
        "\n",
        "Alternatively, inspect the Application Insight instance created alongside the Azure Machine Learning Workspace.\n",
        "\n",
        "<img src=\"Media/azure-app-insight.png\">\n",
        "\n",
        "To delve into transactions, navigate to the **Investigate** category.\n",
        "\n",
        "<img src=\"Media/azure-app-insight-transaction.png\">\n",
        "\n",
        "For more detailed analysis, select a specific result.\n",
        "\n",
        "<img src=\"Media/azure-app-insight-transaction-results.png\">\n",
        "\n",
        "Under the **Performance** tab, select the desired operation to view logs.\n",
        "\n",
        "<img src=\"Media/azure-app-insight-performance.png\">\n",
        "\n",
        "Explore the query results from Azure Log Analytics.\n",
        "\n",
        "<img src=\"Media/logs-kql-commands.png\">\n",
        "\n",
        "The steps above facilitate the usage of your model for predictions and monitoring through Azure's robust logging and analytics tools."
      ]
    }
  ],
  "metadata": {
    "kernel_info": {
      "name": "python310-sdkv2"
    },
    "kernelspec": {
      "display_name": "Python 3.10 - SDK v2",
      "language": "python",
      "name": "python310-sdkv2"
    },
    "language_info": {
      "codemirror_mode": {
        "name": "ipython",
        "version": 3
      },
      "file_extension": ".py",
      "mimetype": "text/x-python",
      "name": "python",
      "nbconvert_exporter": "python",
      "pygments_lexer": "ipython3",
      "version": "3.10.11"
    },
    "microsoft": {
      "host": {
        "AzureML": {
          "notebookHasBeenCompleted": true
        }
      },
      "ms_spell_check": {
        "ms_spell_check_language": "en"
      }
    },
    "nteract": {
      "version": "nteract-front-end@1.0.0"
    },
    "orig_nbformat": 4,
    "vscode": {
      "interpreter": {
        "hash": "bd2f20a2ae7e9e927b52643942994f3aab4e8a0fff0d99512b6bf37211656242"
      }
    }
  },
  "nbformat": 4,
  "nbformat_minor": 2
}
