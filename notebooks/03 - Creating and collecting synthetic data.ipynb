{
  "cells": [
    {
      "cell_type": "markdown",
      "metadata": {},
      "source": [
        "# Create Synthetic data\n",
        "\n",
        "## Initialize Workspace\n",
        "> [!NOTE] Must use Python 3.10 SDK V2 for this demo."
      ]
    },
    {
      "cell_type": "code",
      "execution_count": null,
      "metadata": {
        "gather": {
          "logged": 1696442542547
        }
      },
      "outputs": [],
      "source": [
        "from azure.identity import DefaultAzureCredential\n",
        "from azure.ai.ml import MLClient\n",
        "\n",
        "# Establish a connection to the workspace\n",
        "ml_client = MLClient.from_config(DefaultAzureCredential())\n"
      ]
    },
    {
      "cell_type": "markdown",
      "metadata": {},
      "source": [
        "## Load Existing Data\n",
        "Load the existing diabetes data to understand its structure before generating synthetic data"
      ]
    },
    {
      "cell_type": "code",
      "execution_count": null,
      "metadata": {
        "gather": {
          "logged": 1696442553540
        },
        "jupyter": {
          "outputs_hidden": false,
          "source_hidden": false
        },
        "nteract": {
          "transient": {
            "deleting": false
          }
        }
      },
      "outputs": [],
      "source": [
        "import mltable\n",
        "\n",
        "# Load the existing data asset\n",
        "data_asset = ml_client.data.get(\"diabetes-mltable-production\", label=\"latest\")\n",
        "\n",
        "# Convert the data asset to a Pandas DataFrame\n",
        "tbl = mltable.load(data_asset.path)\n",
        "diabetes = tbl.to_pandas_dataframe()\n",
        "diabetes.head()  # Display the first few rows to understand the data structure"
      ]
    },
    {
      "cell_type": "markdown",
      "metadata": {
        "nteract": {
          "transient": {
            "deleting": false
          }
        }
      },
      "source": [
        "## Generate Synthetic Data\n",
        "\n",
        "Create a synthetic dataset mimicking the structure and statistical properties of the original diabetes dataset."
      ]
    },
    {
      "cell_type": "code",
      "execution_count": null,
      "metadata": {
        "gather": {
          "logged": 1696442624807
        },
        "jupyter": {
          "outputs_hidden": false,
          "source_hidden": false
        },
        "nteract": {
          "transient": {
            "deleting": false
          }
        }
      },
      "outputs": [],
      "source": [
        "import pandas as pd\n",
        "import numpy as np\n",
        "import os\n",
        "\n",
        "# Create a synthetic dataset with the same shape as the original dataset\n",
        "num_rows = diabetes.shape[0]\n",
        "synthetic_data = pd.DataFrame()\n",
        "\n",
        "# Generate PatientID - unique 7-digit numbers\n",
        "synthetic_data['PatientID'] = np.random.choice(range(1000000, 9999999), num_rows, replace=False)\n",
        "\n",
        "# Generate Pregnancies - assuming a range of 0 to 17 pregnancies\n",
        "synthetic_data['Pregnancies'] = np.random.randint(0, 18, num_rows)\n",
        "\n",
        "# Generate PlasmaGlucose - assuming a mean of 120 and std deviation of 20\n",
        "synthetic_data['PlasmaGlucose'] = np.random.normal(120, 20, num_rows).astype(int)\n",
        "\n",
        "# Generate DiastolicBloodPressure - assuming a mean of 80 and std deviation of 10\n",
        "synthetic_data['DiastolicBloodPressure'] = np.random.normal(80, 10, num_rows).astype(int)\n",
        "\n",
        "# Generate TricepsThickness - assuming a mean of 25 and std deviation of 10\n",
        "synthetic_data['TricepsThickness'] = np.random.normal(25, 10, num_rows).astype(int)\n",
        "\n",
        "# Generate SerumInsulin - assuming a mean of 140 and std deviation of 85\n",
        "synthetic_data['SerumInsulin'] = np.random.normal(140, 85, num_rows).astype(int)\n",
        "\n",
        "# Generate BMI - assuming a mean of 30 and std deviation of 5\n",
        "synthetic_data['BMI'] = np.random.normal(30, 5, num_rows)\n",
        "\n",
        "# Generate DiabetesPedigree - assuming a mean of 0.5 and std deviation of 0.3\n",
        "synthetic_data['DiabetesPedigree'] = np.random.normal(0.5, 0.3, num_rows)\n",
        "\n",
        "# Generate Age - assuming a mean of 30 and std deviation of 10\n",
        "synthetic_data['Age'] = np.random.normal(30, 10, num_rows).astype(int)\n",
        "\n",
        "# Save the synthetic dataset to disk\n",
        "os.makedirs(\"data/synthetic-diabetes-data/\", exist_ok=True)\n",
        "synthetic_data.to_csv(\"data/synthetic-diabetes-data/synthetic.csv\", index=False)\n"
      ]
    },
    {
      "cell_type": "markdown",
      "metadata": {
        "gather": {
          "logged": 1696442626911
        },
        "jupyter": {
          "outputs_hidden": false,
          "source_hidden": false
        },
        "nteract": {
          "transient": {
            "deleting": false
          }
        }
      },
      "source": [
        "## Convert to MLTable and Save\n",
        "\n",
        "Convert the synthetic dataset to an mltable object and save it to disk."
      ]
    },
    {
      "cell_type": "code",
      "execution_count": null,
      "metadata": {
        "gather": {
          "logged": 1696442690727
        },
        "jupyter": {
          "outputs_hidden": false,
          "source_hidden": false
        },
        "nteract": {
          "transient": {
            "deleting": false
          }
        }
      },
      "outputs": [],
      "source": [
        "tbl_synthetic = mltable.from_delimited_files(paths=[{\"pattern\": \"data/synthetic-diabetes-data/synthetic.csv\"}])\n",
        "tbl_synthetic.save(\"data/synthetic-diabetes-data\")\n",
        "tbl_synthetic.show(5)  # Display the first few rows of the synthetic data"
      ]
    },
    {
      "cell_type": "markdown",
      "metadata": {},
      "source": [
        "## Register Synthetic Data\n",
        "\n",
        "Register the synthetic data as a new data asset in the Azure ML workspace."
      ]
    },
    {
      "cell_type": "code",
      "execution_count": null,
      "metadata": {
        "gather": {
          "logged": 1696442849564
        },
        "jupyter": {
          "outputs_hidden": false,
          "source_hidden": false
        },
        "nteract": {
          "transient": {
            "deleting": false
          }
        }
      },
      "outputs": [],
      "source": [
        "import time\n",
        "from azure.ai.ml.entities import Data\n",
        "from azure.ai.ml.constants import AssetTypes\n",
        "\n",
        "# Set the version number of the data asset to the current UTC time\n",
        "VERSION = time.strftime(\"%Y.%m.%d.%H%M%S\", time.gmtime())\n",
        "\n",
        "my_data_synthetic = Data(\n",
        "    path=\"./data/synthetic-diabetes-data\",\n",
        "    type=AssetTypes.MLTABLE,\n",
        "    description=\"Synthetic data for the diabetes dataset\",\n",
        "    name=\"diabetes-mltable-synthetic\",\n",
        "    version=VERSION,\n",
        ")\n",
        "\n",
        "ml_client.data.create_or_update(my_data_synthetic)"
      ]
    }
  ],
  "metadata": {
    "kernel_info": {
      "name": "python310-sdkv2"
    },
    "kernelspec": {
      "display_name": "Python 3.10 - SDK v2",
      "language": "python",
      "name": "python310-sdkv2"
    },
    "language_info": {
      "codemirror_mode": {
        "name": "ipython",
        "version": 3
      },
      "file_extension": ".py",
      "mimetype": "text/x-python",
      "name": "python",
      "nbconvert_exporter": "python",
      "pygments_lexer": "ipython3",
      "version": "3.10.11"
    },
    "microsoft": {
      "host": {
        "AzureML": {
          "notebookHasBeenCompleted": true
        }
      },
      "ms_spell_check": {
        "ms_spell_check_language": "en"
      }
    },
    "nteract": {
      "version": "nteract-front-end@1.0.0"
    },
    "orig_nbformat": 4,
    "vscode": {
      "interpreter": {
        "hash": "bd2f20a2ae7e9e927b52643942994f3aab4e8a0fff0d99512b6bf37211656242"
      }
    }
  },
  "nbformat": 4,
  "nbformat_minor": 2
}
