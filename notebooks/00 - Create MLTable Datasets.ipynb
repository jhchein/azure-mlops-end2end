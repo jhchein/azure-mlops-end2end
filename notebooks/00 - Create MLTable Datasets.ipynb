{
  "cells": [
    {
      "cell_type": "markdown",
      "metadata": {},
      "source": [
        "# Diabetes Dataset Preparation Notebook\n",
        "\n",
        "This notebook serves as the first step in a series of notebooks aimed at analyzing a diabetes dataset. In this notebook, we'll focus on data acquisition, sampling, and preparation for model training in subsequent steps. The key processes include:\n",
        "\n",
        "1. **Environment Setup**:\n",
        "    - Importing necessary libraries.\n",
        "    - Establishing Azure ML client connection.\n",
        "\n",
        "2. **Data Acquisition**:\n",
        "    - Defining the data paths.\n",
        "    - Loading data into `MLTable` objects using `mltable.from_delimited_files()`.\n",
        "\n",
        "3. **Data Sampling**:\n",
        "    - Random sampling of data using `mltable` functionality.\n",
        "    - Converting sampled data to Pandas DataFrame for further analysis.\n",
        "\n",
        "4. **Data Saving and Versioning**:\n",
        "    - Saving the data to disk in MLTable format.\n",
        "    - Creating or updating the data asset in Azure ML with versioning.\n",
        "\n",
        "5. **Data Splitting**:\n",
        "    - Splitting the data into training and testing sets using `train_test_split`.\n",
        "    - Exploring the split data (optional).\n",
        "\n",
        "6. **Data Persistence**:\n",
        "    - Saving the split data to disk for future use.\n",
        "\n",
        "This notebook sets the stage for the following notebooks in this series:\n",
        "- **Train and Deploy a Model**: Building, training, and deploying a machine learning model.\n",
        "- **Invoke a Real-Time Endpoint**: Making real-time predictions using the deployed model.\n",
        "- **Create Synthetic Data**: Generating synthetic data for further analysis.\n",
        "- **Explore Collected Data from Production**: Analyzing data collected from the production environment to gain insights and improve the model.\n",
        "\n",
        "**Note**: This notebook assumes familiarity with Azure ML, Scikit-learn, and the `mltable` library for tabular data manipulation and analysis. For more detailed information on `mltable`, please refer to the [official documentation](link_to_mltable_documentation).\n"
      ]
    },
    {
      "cell_type": "code",
      "execution_count": 1,
      "metadata": {
        "gather": {
          "logged": 1697218725674
        },
        "jupyter": {
          "outputs_hidden": false,
          "source_hidden": false
        },
        "nteract": {
          "transient": {
            "deleting": false
          }
        }
      },
      "outputs": [],
      "source": [
        "# !pip install mltable scikit-learn"
      ]
    },
    {
      "cell_type": "code",
      "execution_count": 2,
      "metadata": {
        "gather": {
          "logged": 1697218727685
        }
      },
      "outputs": [],
      "source": [
        "# Import necessary libraries\n",
        "import mltable  # Library for working with tabular data\n",
        "import os  # Operating system interfaces\n",
        "import time  # Time access and conversions\n",
        "from azure.ai.ml import MLClient  # Azure ML Client for managing ML assets\n",
        "from azure.ai.ml.entities import Data  # Data entity class for Azure ML\n",
        "from azure.ai.ml.constants import AssetTypes  # Constants for Azure ML asset types\n",
        "from azure.identity import DefaultAzureCredential  # Credential class for Azure authentication\n",
        "from sklearn.model_selection import train_test_split  # Split arrays or matrices into random train and test subsets"
      ]
    },
    {
      "cell_type": "markdown",
      "metadata": {},
      "source": [
        "## Load Data\n",
        "\n",
        "In this section, we'll load the diabetes dataset from two distinct files using `mltable.from_delimited_files()`. The paths variable holds dictionaries that specify the URLs of these CSV files. Allowed keys are `file`, `folder`, and `pattern`."
      ]
    },
    {
      "cell_type": "code",
      "execution_count": 3,
      "metadata": {
        "gather": {
          "logged": 1697218729085
        }
      },
      "outputs": [
        {
          "data": {
            "text/html": [
              "<div>\n",
              "<style scoped>\n",
              "    .dataframe tbody tr th:only-of-type {\n",
              "        vertical-align: middle;\n",
              "    }\n",
              "\n",
              "    .dataframe tbody tr th {\n",
              "        vertical-align: top;\n",
              "    }\n",
              "\n",
              "    .dataframe thead th {\n",
              "        text-align: right;\n",
              "    }\n",
              "</style>\n",
              "<table border=\"1\" class=\"dataframe\">\n",
              "  <thead>\n",
              "    <tr style=\"text-align: right;\">\n",
              "      <th></th>\n",
              "      <th>PatientID</th>\n",
              "      <th>Pregnancies</th>\n",
              "      <th>PlasmaGlucose</th>\n",
              "      <th>DiastolicBloodPressure</th>\n",
              "      <th>TricepsThickness</th>\n",
              "      <th>SerumInsulin</th>\n",
              "      <th>BMI</th>\n",
              "      <th>DiabetesPedigree</th>\n",
              "      <th>Age</th>\n",
              "      <th>Diabetic</th>\n",
              "    </tr>\n",
              "  </thead>\n",
              "  <tbody>\n",
              "    <tr>\n",
              "      <th>0</th>\n",
              "      <td>1354778</td>\n",
              "      <td>0</td>\n",
              "      <td>171</td>\n",
              "      <td>80</td>\n",
              "      <td>34</td>\n",
              "      <td>23</td>\n",
              "      <td>43.509726</td>\n",
              "      <td>1.213191</td>\n",
              "      <td>21</td>\n",
              "      <td>False</td>\n",
              "    </tr>\n",
              "    <tr>\n",
              "      <th>1</th>\n",
              "      <td>1147438</td>\n",
              "      <td>8</td>\n",
              "      <td>92</td>\n",
              "      <td>93</td>\n",
              "      <td>47</td>\n",
              "      <td>36</td>\n",
              "      <td>21.240576</td>\n",
              "      <td>0.158365</td>\n",
              "      <td>23</td>\n",
              "      <td>False</td>\n",
              "    </tr>\n",
              "    <tr>\n",
              "      <th>2</th>\n",
              "      <td>1640031</td>\n",
              "      <td>7</td>\n",
              "      <td>115</td>\n",
              "      <td>47</td>\n",
              "      <td>52</td>\n",
              "      <td>35</td>\n",
              "      <td>41.511523</td>\n",
              "      <td>0.079019</td>\n",
              "      <td>23</td>\n",
              "      <td>False</td>\n",
              "    </tr>\n",
              "    <tr>\n",
              "      <th>3</th>\n",
              "      <td>1883350</td>\n",
              "      <td>9</td>\n",
              "      <td>103</td>\n",
              "      <td>78</td>\n",
              "      <td>25</td>\n",
              "      <td>304</td>\n",
              "      <td>29.582192</td>\n",
              "      <td>1.282870</td>\n",
              "      <td>43</td>\n",
              "      <td>True</td>\n",
              "    </tr>\n",
              "    <tr>\n",
              "      <th>4</th>\n",
              "      <td>1424119</td>\n",
              "      <td>1</td>\n",
              "      <td>85</td>\n",
              "      <td>59</td>\n",
              "      <td>27</td>\n",
              "      <td>35</td>\n",
              "      <td>42.604536</td>\n",
              "      <td>0.549542</td>\n",
              "      <td>22</td>\n",
              "      <td>False</td>\n",
              "    </tr>\n",
              "  </tbody>\n",
              "</table>\n",
              "</div>"
            ],
            "text/plain": [
              "   PatientID  Pregnancies  PlasmaGlucose  DiastolicBloodPressure  \\\n",
              "0    1354778            0            171                      80   \n",
              "1    1147438            8             92                      93   \n",
              "2    1640031            7            115                      47   \n",
              "3    1883350            9            103                      78   \n",
              "4    1424119            1             85                      59   \n",
              "\n",
              "   TricepsThickness  SerumInsulin        BMI  DiabetesPedigree  Age  Diabetic  \n",
              "0                34            23  43.509726          1.213191   21     False  \n",
              "1                47            36  21.240576          0.158365   23     False  \n",
              "2                52            35  41.511523          0.079019   23     False  \n",
              "3                25           304  29.582192          1.282870   43      True  \n",
              "4                27            35  42.604536          0.549542   22     False  "
            ]
          },
          "execution_count": 3,
          "metadata": {},
          "output_type": "execute_result"
        }
      ],
      "source": [
        "# Define the file paths\n",
        "paths = [\n",
        "    {\n",
        "        \"pattern\": \"https://raw.githubusercontent.com/MicrosoftLearning/mslearn-dp100/main/data/diabetes.csv\"\n",
        "    },\n",
        "    {\n",
        "        \"file\": \"https://raw.githubusercontent.com/MicrosoftLearning/mslearn-dp100/main/data/diabetes2.csv\"\n",
        "    },\n",
        "    # {\n",
        "    #     \"folder\": \"https://raw.githubusercontent.com/MicrosoftLearning/mslearn-dp100/main/data/\"\n",
        "    # }\n",
        "]\n",
        "\n",
        "# Create an MLTable object\n",
        "tbl = mltable.from_delimited_files(paths)\n",
        "\n",
        "tbl.show(5)\n"
      ]
    },
    {
      "cell_type": "markdown",
      "metadata": {},
      "source": [
        "The `mltable.from_delimited_files()` function simplifies the loading process by auto-detecting the delimiter and establishing appropriate column names and data types, encapsulating the data within an MLTable object for easy manipulation and analysis."
      ]
    },
    {
      "cell_type": "markdown",
      "metadata": {},
      "source": [
        "## Sample Data\n",
        "For initial exploration and model testing, we'll draw a random sample from the loaded data. The `tbl.take_random_sample()` method facilitates this, where `probability` sets the row selection chance, and `seed` ensures reproducibility."
      ]
    },
    {
      "cell_type": "code",
      "execution_count": 4,
      "metadata": {
        "gather": {
          "logged": 1697218729517
        }
      },
      "outputs": [
        {
          "data": {
            "text/html": [
              "<div>\n",
              "<style scoped>\n",
              "    .dataframe tbody tr th:only-of-type {\n",
              "        vertical-align: middle;\n",
              "    }\n",
              "\n",
              "    .dataframe tbody tr th {\n",
              "        vertical-align: top;\n",
              "    }\n",
              "\n",
              "    .dataframe thead th {\n",
              "        text-align: right;\n",
              "    }\n",
              "</style>\n",
              "<table border=\"1\" class=\"dataframe\">\n",
              "  <thead>\n",
              "    <tr style=\"text-align: right;\">\n",
              "      <th></th>\n",
              "      <th>PatientID</th>\n",
              "      <th>Pregnancies</th>\n",
              "      <th>PlasmaGlucose</th>\n",
              "      <th>DiastolicBloodPressure</th>\n",
              "      <th>TricepsThickness</th>\n",
              "      <th>SerumInsulin</th>\n",
              "      <th>BMI</th>\n",
              "      <th>DiabetesPedigree</th>\n",
              "      <th>Age</th>\n",
              "      <th>Diabetic</th>\n",
              "    </tr>\n",
              "  </thead>\n",
              "  <tbody>\n",
              "    <tr>\n",
              "      <th>0</th>\n",
              "      <td>1430470</td>\n",
              "      <td>11</td>\n",
              "      <td>128</td>\n",
              "      <td>101</td>\n",
              "      <td>46</td>\n",
              "      <td>231</td>\n",
              "      <td>31.419341</td>\n",
              "      <td>0.113117</td>\n",
              "      <td>62</td>\n",
              "      <td>True</td>\n",
              "    </tr>\n",
              "    <tr>\n",
              "      <th>1</th>\n",
              "      <td>1654612</td>\n",
              "      <td>0</td>\n",
              "      <td>89</td>\n",
              "      <td>53</td>\n",
              "      <td>28</td>\n",
              "      <td>27</td>\n",
              "      <td>30.384366</td>\n",
              "      <td>0.140559</td>\n",
              "      <td>21</td>\n",
              "      <td>False</td>\n",
              "    </tr>\n",
              "    <tr>\n",
              "      <th>2</th>\n",
              "      <td>1090869</td>\n",
              "      <td>0</td>\n",
              "      <td>114</td>\n",
              "      <td>80</td>\n",
              "      <td>32</td>\n",
              "      <td>144</td>\n",
              "      <td>35.262387</td>\n",
              "      <td>0.130052</td>\n",
              "      <td>25</td>\n",
              "      <td>False</td>\n",
              "    </tr>\n",
              "    <tr>\n",
              "      <th>3</th>\n",
              "      <td>1855732</td>\n",
              "      <td>9</td>\n",
              "      <td>154</td>\n",
              "      <td>63</td>\n",
              "      <td>15</td>\n",
              "      <td>73</td>\n",
              "      <td>29.767030</td>\n",
              "      <td>0.617465</td>\n",
              "      <td>21</td>\n",
              "      <td>True</td>\n",
              "    </tr>\n",
              "    <tr>\n",
              "      <th>4</th>\n",
              "      <td>1948008</td>\n",
              "      <td>0</td>\n",
              "      <td>163</td>\n",
              "      <td>54</td>\n",
              "      <td>7</td>\n",
              "      <td>41</td>\n",
              "      <td>40.640848</td>\n",
              "      <td>0.133926</td>\n",
              "      <td>32</td>\n",
              "      <td>False</td>\n",
              "    </tr>\n",
              "  </tbody>\n",
              "</table>\n",
              "</div>"
            ],
            "text/plain": [
              "   PatientID  Pregnancies  PlasmaGlucose  DiastolicBloodPressure  \\\n",
              "0    1430470           11            128                     101   \n",
              "1    1654612            0             89                      53   \n",
              "2    1090869            0            114                      80   \n",
              "3    1855732            9            154                      63   \n",
              "4    1948008            0            163                      54   \n",
              "\n",
              "   TricepsThickness  SerumInsulin        BMI  DiabetesPedigree  Age  Diabetic  \n",
              "0                46           231  31.419341          0.113117   62      True  \n",
              "1                28            27  30.384366          0.140559   21     False  \n",
              "2                32           144  35.262387          0.130052   25     False  \n",
              "3                15            73  29.767030          0.617465   21      True  \n",
              "4                 7            41  40.640848          0.133926   32     False  "
            ]
          },
          "execution_count": 4,
          "metadata": {},
          "output_type": "execute_result"
        }
      ],
      "source": [
        "# Take a random sample of the table\n",
        "tbl_sample = tbl.take_random_sample(probability=0.001, seed=735)\n",
        "\n",
        "# Convert to Pandas DataFrame\n",
        "df = tbl_sample.to_pandas_dataframe()\n",
        "\n",
        "# Display the first few rows\n",
        "df.head()"
      ]
    },
    {
      "cell_type": "code",
      "execution_count": 5,
      "metadata": {
        "gather": {
          "logged": 1697218729834
        },
        "jupyter": {
          "outputs_hidden": false,
          "source_hidden": false
        },
        "nteract": {
          "transient": {
            "deleting": false
          }
        }
      },
      "outputs": [
        {
          "data": {
            "text/plain": [
              "'1605160'"
            ]
          },
          "execution_count": 5,
          "metadata": {},
          "output_type": "execute_result"
        }
      ],
      "source": [
        "median_patient_id = str(int(df[\"PatientID\"].median()))\n",
        "median_patient_id"
      ]
    },
    {
      "cell_type": "code",
      "execution_count": 6,
      "metadata": {
        "gather": {
          "logged": 1697218730145
        },
        "jupyter": {
          "outputs_hidden": false,
          "source_hidden": false
        },
        "nteract": {
          "transient": {
            "deleting": false
          }
        }
      },
      "outputs": [],
      "source": [
        "# tbl_sample.random_split(percent=.5)\n",
        "tbl_dev = tbl.filter(f'PatientID <= {median_patient_id}')\n",
        "tbl_prod = tbl.filter(f'PatientID > {median_patient_id}')"
      ]
    },
    {
      "cell_type": "markdown",
      "metadata": {
        "nteract": {
          "transient": {
            "deleting": false
          }
        }
      },
      "source": [
        "## Creating Synthetic Production Data with Dates"
      ]
    },
    {
      "cell_type": "code",
      "execution_count": 16,
      "metadata": {
        "gather": {
          "logged": 1697221160813
        },
        "jupyter": {
          "outputs_hidden": false,
          "source_hidden": false
        },
        "nteract": {
          "transient": {
            "deleting": false
          }
        }
      },
      "outputs": [
        {
          "data": {
            "text/html": [
              "<div>\n",
              "<style scoped>\n",
              "    .dataframe tbody tr th:only-of-type {\n",
              "        vertical-align: middle;\n",
              "    }\n",
              "\n",
              "    .dataframe tbody tr th {\n",
              "        vertical-align: top;\n",
              "    }\n",
              "\n",
              "    .dataframe thead th {\n",
              "        text-align: right;\n",
              "    }\n",
              "</style>\n",
              "<table border=\"1\" class=\"dataframe\">\n",
              "  <thead>\n",
              "    <tr style=\"text-align: right;\">\n",
              "      <th></th>\n",
              "      <th>Pregnancies</th>\n",
              "      <th>PlasmaGlucose</th>\n",
              "      <th>DiastolicBloodPressure</th>\n",
              "      <th>TricepsThickness</th>\n",
              "      <th>SerumInsulin</th>\n",
              "      <th>BMI</th>\n",
              "      <th>DiabetesPedigree</th>\n",
              "      <th>Age</th>\n",
              "    </tr>\n",
              "  </thead>\n",
              "  <tbody>\n",
              "    <tr>\n",
              "      <th>0</th>\n",
              "      <td>7</td>\n",
              "      <td>115</td>\n",
              "      <td>47</td>\n",
              "      <td>52</td>\n",
              "      <td>35</td>\n",
              "      <td>41.511523</td>\n",
              "      <td>0.079019</td>\n",
              "      <td>23</td>\n",
              "    </tr>\n",
              "    <tr>\n",
              "      <th>1</th>\n",
              "      <td>9</td>\n",
              "      <td>103</td>\n",
              "      <td>78</td>\n",
              "      <td>25</td>\n",
              "      <td>304</td>\n",
              "      <td>29.582192</td>\n",
              "      <td>1.282870</td>\n",
              "      <td>43</td>\n",
              "    </tr>\n",
              "    <tr>\n",
              "      <th>2</th>\n",
              "      <td>0</td>\n",
              "      <td>82</td>\n",
              "      <td>92</td>\n",
              "      <td>9</td>\n",
              "      <td>253</td>\n",
              "      <td>19.724160</td>\n",
              "      <td>0.103424</td>\n",
              "      <td>26</td>\n",
              "    </tr>\n",
              "    <tr>\n",
              "      <th>3</th>\n",
              "      <td>0</td>\n",
              "      <td>133</td>\n",
              "      <td>47</td>\n",
              "      <td>19</td>\n",
              "      <td>227</td>\n",
              "      <td>21.941357</td>\n",
              "      <td>0.174160</td>\n",
              "      <td>21</td>\n",
              "    </tr>\n",
              "    <tr>\n",
              "      <th>4</th>\n",
              "      <td>1</td>\n",
              "      <td>88</td>\n",
              "      <td>86</td>\n",
              "      <td>11</td>\n",
              "      <td>58</td>\n",
              "      <td>43.225041</td>\n",
              "      <td>0.230285</td>\n",
              "      <td>22</td>\n",
              "    </tr>\n",
              "  </tbody>\n",
              "</table>\n",
              "</div>"
            ],
            "text/plain": [
              "   Pregnancies  PlasmaGlucose  DiastolicBloodPressure  TricepsThickness  \\\n",
              "0            7            115                      47                52   \n",
              "1            9            103                      78                25   \n",
              "2            0             82                      92                 9   \n",
              "3            0            133                      47                19   \n",
              "4            1             88                      86                11   \n",
              "\n",
              "   SerumInsulin        BMI  DiabetesPedigree  Age  \n",
              "0            35  41.511523          0.079019   23  \n",
              "1           304  29.582192          1.282870   43  \n",
              "2           253  19.724160          0.103424   26  \n",
              "3           227  21.941357          0.174160   21  \n",
              "4            58  43.225041          0.230285   22  "
            ]
          },
          "execution_count": 16,
          "metadata": {},
          "output_type": "execute_result"
        }
      ],
      "source": [
        "tbl_prod_features, tbl_prod_labels = tbl_prod.drop_columns([\"Diabetic\", \"PatientID\"]), tbl_prod.keep_columns([\"Diabetic\"])\n",
        "tbl_prod_features.show(5)"
      ]
    },
    {
      "cell_type": "code",
      "execution_count": 21,
      "metadata": {
        "gather": {
          "logged": 1697221328832
        },
        "jupyter": {
          "outputs_hidden": false,
          "source_hidden": false
        },
        "nteract": {
          "transient": {
            "deleting": false
          }
        }
      },
      "outputs": [
        {
          "data": {
            "text/html": [
              "<div>\n",
              "<style scoped>\n",
              "    .dataframe tbody tr th:only-of-type {\n",
              "        vertical-align: middle;\n",
              "    }\n",
              "\n",
              "    .dataframe tbody tr th {\n",
              "        vertical-align: top;\n",
              "    }\n",
              "\n",
              "    .dataframe thead th {\n",
              "        text-align: right;\n",
              "    }\n",
              "</style>\n",
              "<table border=\"1\" class=\"dataframe\">\n",
              "  <thead>\n",
              "    <tr style=\"text-align: right;\">\n",
              "      <th></th>\n",
              "      <th>Pregnancies</th>\n",
              "      <th>PlasmaGlucose</th>\n",
              "      <th>DiastolicBloodPressure</th>\n",
              "      <th>TricepsThickness</th>\n",
              "      <th>SerumInsulin</th>\n",
              "      <th>BMI</th>\n",
              "      <th>DiabetesPedigree</th>\n",
              "      <th>Age</th>\n",
              "      <th>date</th>\n",
              "    </tr>\n",
              "  </thead>\n",
              "  <tbody>\n",
              "    <tr>\n",
              "      <th>0</th>\n",
              "      <td>7</td>\n",
              "      <td>115</td>\n",
              "      <td>47</td>\n",
              "      <td>52</td>\n",
              "      <td>35</td>\n",
              "      <td>41.511523</td>\n",
              "      <td>0.079019</td>\n",
              "      <td>23</td>\n",
              "      <td>2023-11-05T18:22:11.028144Z</td>\n",
              "    </tr>\n",
              "    <tr>\n",
              "      <th>1</th>\n",
              "      <td>9</td>\n",
              "      <td>103</td>\n",
              "      <td>78</td>\n",
              "      <td>25</td>\n",
              "      <td>304</td>\n",
              "      <td>29.582192</td>\n",
              "      <td>1.282870</td>\n",
              "      <td>43</td>\n",
              "      <td>2023-10-01T18:22:11.028144Z</td>\n",
              "    </tr>\n",
              "    <tr>\n",
              "      <th>2</th>\n",
              "      <td>0</td>\n",
              "      <td>82</td>\n",
              "      <td>92</td>\n",
              "      <td>9</td>\n",
              "      <td>253</td>\n",
              "      <td>19.724160</td>\n",
              "      <td>0.103424</td>\n",
              "      <td>26</td>\n",
              "      <td>2023-09-17T18:22:11.028144Z</td>\n",
              "    </tr>\n",
              "    <tr>\n",
              "      <th>3</th>\n",
              "      <td>0</td>\n",
              "      <td>133</td>\n",
              "      <td>47</td>\n",
              "      <td>19</td>\n",
              "      <td>227</td>\n",
              "      <td>21.941357</td>\n",
              "      <td>0.174160</td>\n",
              "      <td>21</td>\n",
              "      <td>2023-09-21T18:22:11.028144Z</td>\n",
              "    </tr>\n",
              "    <tr>\n",
              "      <th>4</th>\n",
              "      <td>1</td>\n",
              "      <td>88</td>\n",
              "      <td>86</td>\n",
              "      <td>11</td>\n",
              "      <td>58</td>\n",
              "      <td>43.225041</td>\n",
              "      <td>0.230285</td>\n",
              "      <td>22</td>\n",
              "      <td>2023-10-05T18:22:11.028144Z</td>\n",
              "    </tr>\n",
              "  </tbody>\n",
              "</table>\n",
              "</div>"
            ],
            "text/plain": [
              "   Pregnancies  PlasmaGlucose  DiastolicBloodPressure  TricepsThickness  \\\n",
              "0            7            115                      47                52   \n",
              "1            9            103                      78                25   \n",
              "2            0             82                      92                 9   \n",
              "3            0            133                      47                19   \n",
              "4            1             88                      86                11   \n",
              "\n",
              "   SerumInsulin        BMI  DiabetesPedigree  Age                         date  \n",
              "0            35  41.511523          0.079019   23  2023-11-05T18:22:11.028144Z  \n",
              "1           304  29.582192          1.282870   43  2023-10-01T18:22:11.028144Z  \n",
              "2           253  19.724160          0.103424   26  2023-09-17T18:22:11.028144Z  \n",
              "3           227  21.941357          0.174160   21  2023-09-21T18:22:11.028144Z  \n",
              "4            58  43.225041          0.230285   22  2023-10-05T18:22:11.028144Z  "
            ]
          },
          "execution_count": 21,
          "metadata": {},
          "output_type": "execute_result"
        }
      ],
      "source": [
        "import numpy as np\n",
        "from datetime import datetime, timedelta\n",
        "\n",
        "# Assuming df is your DataFrame\n",
        "df_prod_features = tbl_prod_features.to_pandas_dataframe()\n",
        "\n",
        "# Get today's date\n",
        "today = datetime.today()\n",
        "\n",
        "# Generate random number of days between -30 and 30\n",
        "random_days = np.random.randint(-30, 30, size=len(df_prod_features))\n",
        "\n",
        "# Create date column with random dates\n",
        "df_prod_features['date'] = [(today + timedelta(days=int(d))).isoformat() + 'Z' for d in random_days]\n",
        "\n",
        "df_prod_features.head(5)\n"
      ]
    },
    {
      "cell_type": "markdown",
      "metadata": {},
      "source": [
        "## Data Saving and Versioning\n",
        "\n",
        "Post sampling, we persist the `MLTable` object to disk, and define a version for the data asset based on the current UTC time. This versioning can be invaluable for traceability and managing data versions in machine learning workflows."
      ]
    },
    {
      "cell_type": "code",
      "execution_count": 7,
      "metadata": {
        "gather": {
          "logged": 1697218730355
        },
        "jupyter": {
          "outputs_hidden": false,
          "source_hidden": false
        },
        "nteract": {
          "transient": {
            "deleting": false
          }
        }
      },
      "outputs": [],
      "source": [
        "# Set the version number of the data asset to the current UTC time\n",
        "VERSION = time.strftime(\"%Y.%m.%d.%H%M%S\", time.gmtime())"
      ]
    },
    {
      "cell_type": "code",
      "execution_count": 8,
      "metadata": {
        "gather": {
          "logged": 1697218730674
        },
        "jupyter": {
          "outputs_hidden": false,
          "source_hidden": false
        },
        "nteract": {
          "transient": {
            "deleting": false
          }
        }
      },
      "outputs": [],
      "source": [
        "# delete model directory if it exists\n",
        "import shutil\n",
        "if os.path.exists(\"data\"):\n",
        "    shutil.rmtree(\"data\")\n",
        "\n",
        "os.makedirs(\"data\")\n",
        "os.makedirs(\"data/train\")\n",
        "os.makedirs(\"data/test\")\n",
        "os.makedirs(\"data/eval\")\n",
        "os.makedirs(\"data/prod\")\n",
        "os.makedirs(\"data/prod/features\")\n",
        "os.makedirs(\"data/prod/labels\")"
      ]
    },
    {
      "cell_type": "code",
      "execution_count": 10,
      "metadata": {
        "gather": {
          "logged": 1697218731463
        }
      },
      "outputs": [
        {
          "name": "stdout",
          "output_type": "stream",
          "text": [
            "['MLTable']\n",
            "paths:\n",
            "- pattern: https://raw.githubusercontent.com/MicrosoftLearning/mslearn-dp100/main/data/diabetes.csv\n",
            "- file: https://raw.githubusercontent.com/MicrosoftLearning/mslearn-dp100/main/data/diabetes2.csv\n",
            "transformations:\n",
            "- read_delimited:\n",
            "    delimiter: ','\n",
            "    empty_as_string: false\n",
            "    encoding: utf8\n",
            "    header: all_files_same_headers\n",
            "    include_path_column: false\n",
            "    infer_column_types: true\n",
            "    partition_size: 20971520\n",
            "    path_column: Path\n",
            "    support_multi_line: false\n",
            "- filter: PatientID > 1605160\n",
            "- drop_columns:\n",
            "  - Diabetic\n",
            "  - PatientID\n",
            "type: mltable\n",
            "\n"
          ]
        }
      ],
      "source": [
        "\n",
        "# Save the table to disk in MLTable format\n",
        "tbl_prod_labels.save(\"./data/prod/labels\")\n",
        "tbl_dev.save(\"./data/dev\")\n",
        "\n",
        "print(os.listdir(\"./data/prod/features\"))\n",
        "\n",
        "with open(\"./data/prod/features/MLTable\") as f:\n",
        "    print(f.read())\n"
      ]
    },
    {
      "cell_type": "markdown",
      "metadata": {},
      "source": [
        "Connect to the AzureML workspace and define the data asset. The `create_or_update` method is employed to either create a new data asset or update an existing one in AzureML."
      ]
    },
    {
      "cell_type": "code",
      "execution_count": 23,
      "metadata": {
        "gather": {
          "logged": 1697221473785
        }
      },
      "outputs": [
        {
          "name": "stderr",
          "output_type": "stream",
          "text": [
            "Found the config file in: /config.json\n",
            "\u001b[32mUploading features (0.16 MBs): 100%|██████████| 163811/163811 [00:00<00:00, 1215408.99it/s]\n",
            "\u001b[39m\n",
            "\n"
          ]
        },
        {
          "data": {
            "text/plain": [
              "Data({'skip_validation': False, 'mltable_schema_url': None, 'referenced_uris': None, 'type': 'uri_folder', 'is_anonymous': False, 'auto_increment_version': False, 'auto_delete_setting': None, 'name': 'diabetes-urifolder-production', 'description': 'Example data from the diabetes dataset (Production)', 'tags': {}, 'properties': {}, 'print_as_yaml': True, 'id': '/subscriptions/13c1109b-ba76-4ca6-8161-8767bdf3c75c/resourceGroups/ai-services-rg/providers/Microsoft.MachineLearningServices/workspaces/schaeffler-ops-it-aml/data/diabetes-urifolder-production/versions/2023.10.13.173852', 'Resource__source_path': None, 'base_path': '/mnt/batch/tasks/shared/LS_root/mounts/clusters/hehein5/code/Users/hehein/mlops-ci-cd-monitor-demo', 'creation_context': <azure.ai.ml.entities._system_data.SystemData object at 0x7f7c0ade2fe0>, 'serialize': <msrest.serialization.Serializer object at 0x7f7c0ade15a0>, 'version': '2023.10.13.173852', 'latest_version': None, 'path': 'azureml://subscriptions/13c1109b-ba76-4ca6-8161-8767bdf3c75c/resourcegroups/ai-services-rg/workspaces/schaeffler-ops-it-aml/datastores/workspaceblobstore/paths/LocalUpload/64954479ffeabd9fc87660e3a3d745a0/features/', 'datastore': None})"
            ]
          },
          "execution_count": 23,
          "metadata": {},
          "output_type": "execute_result"
        }
      ],
      "source": [
        "df_prod_features.to_parquet(\"./data/prod/features/data.parquet\")\n",
        "\n",
        "# Connect to the AzureML workspace\n",
        "ml_client = MLClient.from_config(credential=DefaultAzureCredential())\n",
        "\n",
        "# Define the data asset\n",
        "my_data = Data(\n",
        "    path=\"./data/prod/features\",\n",
        "    type=AssetTypes.URI_FOLDER,\n",
        "    description=\"Example data from the diabetes dataset (Production)\",\n",
        "    name=\"diabetes-urifolder-production\",\n",
        "    version=VERSION,\n",
        ")\n",
        "\n",
        "# Create or update the data asset in AzureML\n",
        "ml_client.data.create_or_update(my_data)\n"
      ]
    },
    {
      "cell_type": "code",
      "execution_count": 12,
      "metadata": {
        "gather": {
          "logged": 1697218735913
        },
        "jupyter": {
          "outputs_hidden": false,
          "source_hidden": false
        },
        "nteract": {
          "transient": {
            "deleting": false
          }
        }
      },
      "outputs": [
        {
          "name": "stderr",
          "output_type": "stream",
          "text": [
            "Found the config file in: /config.json\n",
            "Found the config file in: /config.json\n"
          ]
        },
        {
          "data": {
            "text/plain": [
              "Data({'skip_validation': False, 'mltable_schema_url': None, 'referenced_uris': ['https://raw.githubusercontent.com/MicrosoftLearning/mslearn-dp100/main/data/diabetes.csv', 'https://raw.githubusercontent.com/MicrosoftLearning/mslearn-dp100/main/data/diabetes2.csv'], 'type': 'mltable', 'is_anonymous': False, 'auto_increment_version': False, 'auto_delete_setting': None, 'name': 'diabetes-mltable-dev', 'description': 'Example data from the diabetes dataset (Train, Test, Eval)', 'tags': {}, 'properties': {}, 'print_as_yaml': True, 'id': '/subscriptions/13c1109b-ba76-4ca6-8161-8767bdf3c75c/resourceGroups/ai-services-rg/providers/Microsoft.MachineLearningServices/workspaces/schaeffler-ops-it-aml/data/diabetes-mltable-dev/versions/2023.10.13.173852', 'Resource__source_path': None, 'base_path': '/mnt/batch/tasks/shared/LS_root/mounts/clusters/hehein5/code/Users/hehein/mlops-ci-cd-monitor-demo', 'creation_context': <azure.ai.ml.entities._system_data.SystemData object at 0x7f7c7630fe80>, 'serialize': <msrest.serialization.Serializer object at 0x7f7c7630ffa0>, 'version': '2023.10.13.173852', 'latest_version': None, 'path': 'azureml://subscriptions/13c1109b-ba76-4ca6-8161-8767bdf3c75c/resourcegroups/ai-services-rg/workspaces/schaeffler-ops-it-aml/datastores/workspaceblobstore/paths/LocalUpload/f350c47a7cbb2dfa590017a8e341fa46/dev/', 'datastore': None})"
            ]
          },
          "execution_count": 12,
          "metadata": {},
          "output_type": "execute_result"
        }
      ],
      "source": [
        "\n",
        "\n",
        "# Connect to the AzureML workspace\n",
        "ml_client = MLClient.from_config(credential=DefaultAzureCredential())\n",
        "\n",
        "# Define the data asset\n",
        "my_data = Data(\n",
        "    path=\"./data/prod/labels\",\n",
        "    type=AssetTypes.MLTABLE,\n",
        "    description=\"Example data from the diabetes dataset (Production Labels)\",\n",
        "    name=\"diabetes-mltable-production-labels\",\n",
        "    version=VERSION,\n",
        ")\n",
        "\n",
        "# Create or update the data asset in AzureML\n",
        "ml_client.data.create_or_update(my_data)\n",
        "\n",
        "\n",
        "# Connect to the AzureML workspace\n",
        "ml_client = MLClient.from_config(credential=DefaultAzureCredential())\n",
        "\n",
        "# Define the data asset\n",
        "my_data = Data(\n",
        "    path=\"./data/dev/\",\n",
        "    type=AssetTypes.MLTABLE,\n",
        "    description=\"Example data from the diabetes dataset (Train, Test, Eval)\",\n",
        "    name=\"diabetes-mltable-dev\",\n",
        "    version=VERSION,\n",
        ")\n",
        "\n",
        "# Create or update the data asset in AzureML\n",
        "ml_client.data.create_or_update(my_data)"
      ]
    },
    {
      "cell_type": "markdown",
      "metadata": {},
      "source": [
        "## Split Data\n",
        "The traditional approach would be to utilize `train_test_split` to segregate the data into training and testing sets, facilitating model validation on unseen data. \n",
        "\n",
        "While the above approach works well, we'll use the native MLTable functionality, which makes it quite easy to split data into train, test, and validation."
      ]
    },
    {
      "cell_type": "code",
      "execution_count": 13,
      "metadata": {
        "gather": {
          "logged": 1697218736460
        }
      },
      "outputs": [],
      "source": [
        "tbl_train, tbl_test_eval = tbl_dev.random_split(percent=.7)\n",
        "tbl_test, tbl_eval = tbl_test_eval.random_split(percent=.5)\n"
      ]
    },
    {
      "cell_type": "markdown",
      "metadata": {
        "nteract": {
          "transient": {
            "deleting": false
          }
        }
      },
      "source": [
        "Once we use sample, we need to store the file locally, create a new MLTable pointing to that file, and register the Data Asset."
      ]
    },
    {
      "cell_type": "code",
      "execution_count": 14,
      "metadata": {
        "gather": {
          "logged": 1697218740529
        },
        "jupyter": {
          "outputs_hidden": false,
          "source_hidden": false
        },
        "nteract": {
          "transient": {
            "deleting": false
          }
        }
      },
      "outputs": [
        {
          "name": "stdout",
          "output_type": "stream",
          "text": [
            "Registering stage: train\n",
            "./data/train/train.parquet\n",
            "Registering stage: test\n",
            "./data/test/test.parquet\n",
            "Registering stage: eval\n",
            "./data/eval/eval.parquet\n"
          ]
        },
        {
          "name": "stderr",
          "output_type": "stream",
          "text": [
            "\u001b[32mUploading train (0.21 MBs): 100%|██████████| 207473/207473 [00:00<00:00, 2809414.27it/s]\n",
            "\u001b[39m\n",
            "\n",
            "\u001b[32mUploading test (0.05 MBs): 100%|██████████| 51181/51181 [00:00<00:00, 624857.87it/s]\n",
            "\u001b[39m\n",
            "\n",
            "\u001b[32mUploading eval (0.05 MBs): 100%|██████████| 52748/52748 [00:00<00:00, 631680.80it/s]\n",
            "\u001b[39m\n",
            "\n"
          ]
        }
      ],
      "source": [
        "tables = {\"train\": tbl_train, \"test\": tbl_test, \"eval\": tbl_eval}\n",
        "\n",
        "for stage in tables.keys():\n",
        "    print(f\"Registering stage: {stage}\")\n",
        "    path = f\"./data/{stage}/\"\n",
        "    parquet_path = path + f\"{stage}.parquet\" \n",
        "    print(parquet_path)\n",
        "\n",
        "    table = tables.get(stage)\n",
        "\n",
        "    df = table.to_pandas_dataframe()\n",
        "\n",
        "    # Save files locally\n",
        "    df.to_parquet(parquet_path)\n",
        "\n",
        "    # Create new MLTable file, pointing towards the local files.\n",
        "    tbl = mltable.from_parquet_files(paths=[{\"file\": parquet_path}])\n",
        "    tbl.save(path)\n",
        "    \n",
        "    # Define Data Asset\n",
        "    my_data = Data(\n",
        "        path=path,\n",
        "        type=AssetTypes.MLTABLE,\n",
        "        description=f\"Example data from the diabetes dataset ({stage})\",\n",
        "        name=f\"diabetes-mltable-{stage}\",\n",
        "        version=VERSION,\n",
        "    )\n",
        "\n",
        "    # Create or update the data asset in AzureML\n",
        "    # try:\n",
        "    ml_client.data.create_or_update(my_data)\n",
        "    # except TypeError as e:\n",
        "    #     print(e)"
      ]
    },
    {
      "cell_type": "markdown",
      "metadata": {},
      "source": [
        "This sectioning enables a streamlined workflow from data loading to splitting, ensuring the data is readily accessible for subsequent analysis and modeling in following notebooks."
      ]
    }
  ],
  "metadata": {
    "kernel_info": {
      "name": "python310-sdkv2"
    },
    "kernelspec": {
      "display_name": "Python 3.10 - SDK v2",
      "language": "python",
      "name": "python310-sdkv2"
    },
    "language_info": {
      "codemirror_mode": {
        "name": "ipython",
        "version": 3
      },
      "file_extension": ".py",
      "mimetype": "text/x-python",
      "name": "python",
      "nbconvert_exporter": "python",
      "pygments_lexer": "ipython3",
      "version": "3.10.11"
    },
    "microsoft": {
      "host": {
        "AzureML": {
          "notebookHasBeenCompleted": true
        }
      },
      "ms_spell_check": {
        "ms_spell_check_language": "en"
      }
    },
    "nteract": {
      "version": "nteract-front-end@1.0.0"
    }
  },
  "nbformat": 4,
  "nbformat_minor": 2
}
